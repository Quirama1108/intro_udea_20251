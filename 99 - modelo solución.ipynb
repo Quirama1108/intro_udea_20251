{
 "cells": [
  {
   "cell_type": "code",
   "execution_count": 88,
   "id": "c0cff014",
   "metadata": {},
   "outputs": [],
   "source": [
    "import pandas as pd\n",
    "from sklearn.ensemble import RandomForestClassifier\n"
   ]
  },
  {
   "cell_type": "code",
   "execution_count": 89,
   "id": "1516a624",
   "metadata": {},
   "outputs": [],
   "source": [
    "# 1. Carga los datos\n",
    "train = pd.read_csv(\"train_preprocesado.csv\")\n",
    "df_test = pd.read_csv(\"test_preprocesado.csv\")\n",
    "df_test_original = pd.read_csv(\"./data/test.csv\")  # este contiene la columna correcta de ID"
   ]
  },
  {
   "cell_type": "code",
   "execution_count": 90,
   "id": "c19dc411",
   "metadata": {},
   "outputs": [],
   "source": [
    "# 2. IDs verdaderos\n",
    "ids = df_test_original[\"ID\"]  # esta es la que debe ir en el submission"
   ]
  },
  {
   "cell_type": "code",
   "execution_count": 91,
   "id": "5774b819",
   "metadata": {},
   "outputs": [],
   "source": [
    "# 3. Preparar datos de entrenamiento\n",
    "X_train = train.drop(columns=[\"target\"])\n",
    "y_train = train[\"target\"]"
   ]
  },
  {
   "cell_type": "code",
   "execution_count": 92,
   "id": "6a9830d3",
   "metadata": {},
   "outputs": [],
   "source": [
    "# 4. Asegurar que df_test tenga mismas columnas que X_train\n",
    "# Elimina cualquier columna target (por error)\n",
    "target_cols = [col for col in df_test.columns if col.startswith(\"rendimiento_global\")]\n",
    "df_test = df_test.drop(columns=target_cols, errors='ignore')\n",
    "\n"
   ]
  },
  {
   "cell_type": "code",
   "execution_count": 93,
   "id": "70596996",
   "metadata": {},
   "outputs": [],
   "source": [
    "# Asegura columnas iguales\n",
    "missing_cols = [col for col in X_train.columns if col not in df_test.columns]\n",
    "for col in missing_cols:\n",
    "    df_test[col] = 0\n",
    "\n",
    "# Reordena columnas\n",
    "df_test = df_test[X_train.columns]\n"
   ]
  },
  {
   "cell_type": "code",
   "execution_count": 94,
   "id": "a822125e",
   "metadata": {},
   "outputs": [],
   "source": [
    "# 5. Entrenar modelo y predecir\n",
    "model = RandomForestClassifier(n_estimators=100, random_state=42)\n",
    "model.fit(X_train, y_train)\n",
    "\n",
    "predicciones = model.predict(df_test)\n"
   ]
  },
  {
   "cell_type": "code",
   "execution_count": 95,
   "id": "097614ac",
   "metadata": {},
   "outputs": [
    {
     "name": "stdout",
     "output_type": "stream",
     "text": [
      "✅ Archivo 'submission.csv' generado correctamente.\n"
     ]
    }
   ],
   "source": [
    "# 6. Crear archivo de envío con los IDs originales\n",
    "submission = pd.DataFrame({\n",
    "    \"ID\": ids,\n",
    "    \"target\": predicciones\n",
    "})\n",
    "submission.to_csv(\"submission.csv\", index=False)\n",
    "\n",
    "print(\"✅ Archivo 'submission.csv' generado correctamente.\")"
   ]
  },
  {
   "cell_type": "code",
   "execution_count": 96,
   "id": "93aa8130",
   "metadata": {},
   "outputs": [
    {
     "name": "stdout",
     "output_type": "stream",
     "text": [
      "Tamaño del archivo de envío (submission): (296786, 2)\n"
     ]
    }
   ],
   "source": [
    "print(\"Tamaño del archivo de envío (submission):\", submission.shape)\n"
   ]
  }
 ],
 "metadata": {
  "kernelspec": {
   "display_name": "Python 3",
   "language": "python",
   "name": "python3"
  },
  "language_info": {
   "codemirror_mode": {
    "name": "ipython",
    "version": 3
   },
   "file_extension": ".py",
   "mimetype": "text/x-python",
   "name": "python",
   "nbconvert_exporter": "python",
   "pygments_lexer": "ipython3",
   "version": "3.11.0"
  }
 },
 "nbformat": 4,
 "nbformat_minor": 5
}
