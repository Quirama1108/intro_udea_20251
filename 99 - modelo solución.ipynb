{
 "cells": [
  {
   "cell_type": "code",
   "execution_count": 54,
   "id": "c0cff014",
   "metadata": {},
   "outputs": [],
   "source": [
    "import pandas as pd\n",
    "from sklearn.ensemble import RandomForestClassifier\n",
    "import joblib"
   ]
  },
  {
   "cell_type": "code",
   "execution_count": 55,
   "id": "e1943f68",
   "metadata": {},
   "outputs": [],
   "source": [
    "\n",
    "# 1. Cargar el modelo entrenado previamente\n",
    "model = joblib.load('./data/modelo_entrenado.pkl')"
   ]
  },
  {
   "cell_type": "code",
   "execution_count": 56,
   "id": "1516a624",
   "metadata": {},
   "outputs": [],
   "source": [
    "# 2. Cargar los datos preprocesados\n",
    "df_test = pd.read_csv(\"./data/test_preprocesado.csv\")\n",
    "df_test_original = pd.read_csv(\"./data/test.csv\")\n"
   ]
  },
  {
   "cell_type": "code",
   "execution_count": 57,
   "id": "38bba3d8",
   "metadata": {},
   "outputs": [],
   "source": [
    "# 3. Preparar los datos de prueba (asegurarse de que df_test tenga las mismas columnas que X_train)\n",
    "X_train = pd.read_csv(\"./data/train_preprocesado.csv\").drop(columns=[\"target\"])\n",
    "\n",
    "# Asegurar que df_test tenga las mismas columnas que X_train\n",
    "missing_cols = [col for col in X_train.columns if col not in df_test.columns]\n",
    "for col in missing_cols:\n",
    "    df_test[col] = 0  # Rellenar las columnas faltantes con cero\n",
    "\n",
    "# Reordenar las columnas para que coincidan con el orden de X_train\n",
    "df_test = df_test[X_train.columns]"
   ]
  },
  {
   "cell_type": "code",
   "execution_count": 58,
   "id": "5774b819",
   "metadata": {},
   "outputs": [],
   "source": [
    "# 4. Realizar la predicción con el modelo cargado\n",
    "predicciones = model.predict(df_test)"
   ]
  },
  {
   "cell_type": "code",
   "execution_count": 59,
   "id": "6a9830d3",
   "metadata": {},
   "outputs": [],
   "source": [
    "# 5. Crear el archivo de envío\n",
    "ids = df_test_original[\"ID\"]\n",
    "submission = pd.DataFrame({\n",
    "    \"ID\": ids,\n",
    "    \"target\": predicciones\n",
    "})"
   ]
  },
  {
   "cell_type": "code",
   "execution_count": 60,
   "id": "70596996",
   "metadata": {},
   "outputs": [],
   "source": [
    "# 6. Guardar el archivo de envío en la carpeta 'data'\n",
    "submission.to_csv(\"./data/submission.csv\", index=False)\n"
   ]
  },
  {
   "cell_type": "code",
   "execution_count": 61,
   "id": "830a616c",
   "metadata": {},
   "outputs": [
    {
     "name": "stdout",
     "output_type": "stream",
     "text": [
      "✅ Archivo 'submission.csv' generado correctamente.\n",
      "Tamaño del archivo de envío (submission): (296786, 2)\n"
     ]
    }
   ],
   "source": [
    "\n",
    "\n",
    "# Confirmación\n",
    "print(\"✅ Archivo 'submission.csv' generado correctamente.\")\n",
    "print(\"Tamaño del archivo de envío (submission):\", submission.shape)\n"
   ]
  }
 ],
 "metadata": {
  "kernelspec": {
   "display_name": "Python 3",
   "language": "python",
   "name": "python3"
  },
  "language_info": {
   "codemirror_mode": {
    "name": "ipython",
    "version": 3
   },
   "file_extension": ".py",
   "mimetype": "text/x-python",
   "name": "python",
   "nbconvert_exporter": "python",
   "pygments_lexer": "ipython3",
   "version": "3.11.0"
  }
 },
 "nbformat": 4,
 "nbformat_minor": 5
}
